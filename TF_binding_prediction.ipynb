{
 "cells": [
  {
   "cell_type": "markdown",
   "metadata": {},
   "source": [
    "# TRANSCRIPTION FACTOR BINDING PREDICTION USING MULTILAYER PERCEPTRON"
   ]
  },
  {
   "cell_type": "markdown",
   "metadata": {},
   "source": [
    "#### Load packages"
   ]
  },
  {
   "cell_type": "code",
   "execution_count": 56,
   "metadata": {},
   "outputs": [],
   "source": [
    "import torch\n",
    "import torch.nn as nn\n",
    "import torch.optim as optim\n",
    "import torch.nn.functional as F\n",
    "import torch.utils.data as du\n",
    "import joblib"
   ]
  },
  {
   "cell_type": "markdown",
   "metadata": {},
   "source": [
    "#### Compute dataset class"
   ]
  },
  {
   "cell_type": "code",
   "execution_count": 57,
   "metadata": {},
   "outputs": [],
   "source": [
    "class JUND_Dataset(du.Dataset):\n",
    "    def __init__(self, data_dir):\n",
    "        super(JUND_Dataset, self).__init__()\n",
    "        self.X = torch.tensor(joblib.load(f'{data_dir}/shard-0-X.joblib'), dtype=torch.float32)\n",
    "        self.y = torch.tensor(joblib.load(f'{data_dir}/shard-0-y.joblib'), dtype=torch.float32)\n",
    "        self.w = torch.tensor(joblib.load(f'{data_dir}/shard-0-w.joblib'), dtype=torch.float32)\n",
    "        self.a = torch.tensor(joblib.load(f'{data_dir}/shard-0-a.joblib'), dtype=torch.float32)\n",
    "\n",
    "    def __len__(self):\n",
    "        return len(self.X)\n",
    "\n",
    "    def __getitem__(self, idx):\n",
    "        return self.X[idx], self.y[idx], self.w[idx], self.a[idx]\n"
   ]
  },
  {
   "cell_type": "markdown",
   "metadata": {},
   "source": [
    "#### Loading Datasets"
   ]
  },
  {
   "cell_type": "code",
   "execution_count": 58,
   "metadata": {},
   "outputs": [],
   "source": [
    "train_dataset = JUND_Dataset('/Users/christophertarkaa/Bioinformatics/Machine Learning/TF_data/train_dataset')\n",
    "valid_dataset = JUND_Dataset('/Users/christophertarkaa/Bioinformatics/Machine Learning/TF_data/valid_dataset')\n",
    "test_dataset = JUND_Dataset('/Users/christophertarkaa/Bioinformatics/Machine Learning/TF_data/test_dataset')"
   ]
  },
  {
   "cell_type": "markdown",
   "metadata": {},
   "source": [
    "#### Define MLP model"
   ]
  },
  {
   "cell_type": "code",
   "execution_count": 59,
   "metadata": {},
   "outputs": [],
   "source": [
    "class MLP(nn.Module):\n",
    "    def __init__(self, in_dim, hidden_dim, out_dim):\n",
    "        '''in_dim: input layer dim\n",
    "            hidden_dim: hidden layer dim\n",
    "            out_dim: output layer dim'''\n",
    "        \n",
    "        super(MLP, self).__init__()\n",
    "    \n",
    "        # nucleotides are 101 x 4 so flatten them into 404d vector\n",
    "        self.flatten = nn.Flatten()\n",
    "\n",
    "        #two fully connected layers\n",
    "        self.fc1 = nn.Linear(in_dim, hidden_dim)\n",
    "        self.fc2 = nn.Linear(hidden_dim + 1, out_dim) \n",
    "    \n",
    "    def forward(self, x, a):\n",
    "        # since x is 104 x 4, flatten it first\n",
    "        x = self.flatten(x)\n",
    "\n",
    "        # compute output of fc1, and apply relu activation\n",
    "        x = nn.functional.relu(self.fc1(x))\n",
    "        a = a.view(-1, 1)\n",
    "        # compute output layer\n",
    "        x = torch.cat((x, a), dim=1)\n",
    "        x = self.fc2(x)\n",
    "        return x"
   ]
  },
  {
   "cell_type": "markdown",
   "metadata": {},
   "source": [
    "#### Set up training"
   ]
  },
  {
   "cell_type": "code",
   "execution_count": 60,
   "metadata": {},
   "outputs": [
    {
     "data": {
      "text/plain": [
       "MLP(\n",
       "  (flatten): Flatten(start_dim=1, end_dim=-1)\n",
       "  (fc1): Linear(in_features=404, out_features=128, bias=True)\n",
       "  (fc2): Linear(in_features=129, out_features=1, bias=True)\n",
       ")"
      ]
     },
     "execution_count": 60,
     "metadata": {},
     "output_type": "execute_result"
    }
   ],
   "source": [
    "# Hyperparameters\n",
    "input_size = 101*4 \n",
    "hidden_size = 128  \n",
    "output_size = 1      \n",
    "\n",
    "learning_rate = 0.001\n",
    "batch_size = 20\n",
    "epochs = 5\n",
    "\n",
    "# Initialize model and optimizer\n",
    "device = torch.device(\"cpu\")  # Explicitly set to CPU\n",
    "model = MLP(input_size, hidden_size, output_size).to(device)\n",
    "optimizer = optim.Adam(model.parameters(), lr=learning_rate)\n",
    "\n",
    "\n",
    "# set model and optimizer\n",
    "model = MLP(101*4, 128, 1)\n",
    "optimizer =optim.Adam(model.parameters(), lr=learning_rate)\n",
    "\n",
    "# Load training data in batches\n",
    "train_loader = du.DataLoader(dataset=train_dataset, \n",
    "                             batch_size=batch_size, \n",
    "                             shuffle=True)\n",
    "\n",
    "# Send model over to device\n",
    "model = model.to(device)\n",
    "model.train()"
   ]
  },
  {
   "cell_type": "markdown",
   "metadata": {},
   "source": [
    "#### Training Loop over batches"
   ]
  },
  {
   "cell_type": "code",
   "execution_count": 61,
   "metadata": {},
   "outputs": [
    {
     "name": "stdout",
     "output_type": "stream",
     "text": [
      "Epoch: 1, Loss: 0.038957\n",
      "Epoch [1/5] - Train Loss: 0.000003\n",
      "Epoch: 2, Loss: 0.039468\n",
      "Epoch [2/5] - Train Loss: 0.000003\n",
      "Epoch: 3, Loss: 0.036321\n",
      "Epoch [3/5] - Train Loss: 0.000003\n",
      "Epoch: 4, Loss: 0.034099\n",
      "Epoch [4/5] - Train Loss: 0.000002\n",
      "Epoch: 5, Loss: 0.033095\n",
      "Epoch [5/5] - Train Loss: 0.000002\n"
     ]
    }
   ],
   "source": [
    "for epoch in range(1, epochs + 1):\n",
    "    sum_loss = 0.\n",
    "    for batch_idx, (data, target, weight, accessibility) in enumerate(train_loader):\n",
    "        # send batch over to device\n",
    "        data, target, weight, accessibility = data.to(device), target.to(device), weight.to(device), accessibility.to(device)\n",
    "\n",
    "        # zero out prev gradients\n",
    "        optimizer.zero_grad()\n",
    "\n",
    "        # run the forward pass\n",
    "        output = model(data, accessibility)\n",
    "\n",
    "        # compute loss/error\n",
    "        loss = nn.BCEWithLogitsLoss(weight=weight)(output, target)\n",
    "\n",
    "        # sum up batch losses\n",
    "        sum_loss += loss.item()\n",
    "\n",
    "        # compute gradients and take a step\n",
    "        loss.backward()\n",
    "        optimizer.step()\n",
    "\n",
    "    # average loss per example\n",
    "    sum_loss /= len(train_loader.dataset)\n",
    "    print(f'Epoch: {epoch}, Loss: {sum_loss:.6f}')\n",
    "\n",
    "    # average loss per batch\n",
    "    avg_loss = sum_loss / len(train_loader)\n",
    "    print(f\"Epoch [{epoch}/{epochs}] - Train Loss: {avg_loss:.6f}\")\n",
    "\n"
   ]
  },
  {
   "cell_type": "markdown",
   "metadata": {},
   "source": [
    "#### Evaluate on validation data"
   ]
  },
  {
   "cell_type": "code",
   "execution_count": 75,
   "metadata": {},
   "outputs": [
    {
     "name": "stdout",
     "output_type": "stream",
     "text": [
      "Epoch [5/5] - Valid Loss: 1188.5757, Valid Accuracy: 0.6923\n"
     ]
    }
   ],
   "source": [
    "# Load validation data in batches\n",
    "valid_loader = du.DataLoader(dataset=valid_dataset, \n",
    "                             batch_size=batch_size, \n",
    "                             shuffle=True)\n",
    "# Initialize correct beffore the loop\n",
    "correct = 0\n",
    "# Set model to evaluation mode\n",
    "model.eval()\n",
    "with torch.no_grad():\n",
    "    valid_loss = 0.0\n",
    "    total_weight = 0.0\n",
    "    for data, target, weight, accessibility in valid_loader:\n",
    "        data, target, weight, accessibility = data.to(device), target.to(device), weight.to(device), accessibility.to(device)\n",
    "        output = model(data, accessibility)\n",
    "        valid_loss += nn.BCEWithLogitsLoss(weight=weight)(output, target).item()\n",
    "            \n",
    "        # Compute weighted prediction accuracy\n",
    "        predicted = (output > 0).float()\n",
    "        correct += (predicted == target).sum().item()\n",
    "        total_weight += weight.sum().item()\n",
    "    \n",
    "    # Compute weighted accuracy \n",
    "    valid_accuracy = correct / total_weight\n",
    "    print(f\"Epoch [{epoch}/{epochs}] - Valid Loss: {valid_loss:.4f}, Valid Accuracy: {valid_accuracy:.4f}\")"
   ]
  },
  {
   "cell_type": "markdown",
   "metadata": {},
   "source": [
    "#### Testing"
   ]
  },
  {
   "cell_type": "code",
   "execution_count": 77,
   "metadata": {},
   "outputs": [
    {
     "name": "stdout",
     "output_type": "stream",
     "text": [
      "Test Weighted Accuracy: 0.6978\n"
     ]
    }
   ],
   "source": [
    "# Load validation data in batches\n",
    "test_loader = du.DataLoader(dataset=test_dataset, \n",
    "                             batch_size=batch_size, \n",
    "                             shuffle=True)\n",
    "model.eval()\n",
    "with torch.no_grad():\n",
    "    test_correct = 0\n",
    "    test_total_weight = 0.0\n",
    "\n",
    "    for data, target, weight, accessibility in test_loader:\n",
    "        data, target, weight, accessibility = data.to(device), target.to(device), weight.to(device), accessibility.to(device)\n",
    "        output = model(data, accessibility)\n",
    "        predicted = (output > 0).float()\n",
    "        test_correct += (predicted == target).sum().item()\n",
    "        test_total_weight += weight.sum().item()\n",
    "\n",
    "    test_weighted_accuracy = test_correct / test_total_weight\n",
    "    print(f\"Test Weighted Accuracy: {test_weighted_accuracy:.4f}\")"
   ]
  }
 ],
 "metadata": {
  "kernelspec": {
   "display_name": "base",
   "language": "python",
   "name": "python3"
  },
  "language_info": {
   "codemirror_mode": {
    "name": "ipython",
    "version": 3
   },
   "file_extension": ".py",
   "mimetype": "text/x-python",
   "name": "python",
   "nbconvert_exporter": "python",
   "pygments_lexer": "ipython3",
   "version": "3.11.7"
  }
 },
 "nbformat": 4,
 "nbformat_minor": 2
}
